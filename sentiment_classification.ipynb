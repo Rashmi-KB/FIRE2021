from sklearn.ensemble import VotingClassifier
import pandas as pd
import re
import string
from sklearn.metrics import classification_report, accuracy_score, f1_score
from sklearn import model_selection
from sklearn.linear_model import LogisticRegression
from sklearn.svm import LinearSVC
from sklearn.svm import SVC
from sklearn.feature_extraction.text import TfidfVectorizer
from xgboost import XGBClassifier
from imblearn.over_sampling import RandomOverSampler
from sklearn.ensemble import RandomForestClassifier
from imblearn.ensemble import BalancedRandomForestClassifier
from imblearn.over_sampling import ADASYN
from textblob import TextBlob
import numpy as np
from indic_transliteration import sanscript
from indic_transliteration.sanscript import SchemeMap, SCHEMES, transliterate
from sklearn.model_selection import cross_val_score

def token(sentence):
    return TextBlob(sentence).words


def emoji_ch (words):
    if words == '😄' :
      words='good'
    elif words == '😆' :
      words='good'
    elif words == '😊' :
      words='good'
    elif words == '😃' :
      words='good'	
    elif words == '🤬' :
      words='bad'
    elif words == '😏' :
      words='good'	
    elif words == '😍' :
      words='good'	
    elif words == '😘' :
      words='good'
    elif words == '😚' :
      words='good'	
    elif words == '😳' :
      words='flushed'	
    elif words == '😌' :
      words='bad'
    elif words == '😆' :
      words='good'	
    elif words == '😂' :
      words='good'	
    elif words == '😎' :
      words='good'		
    elif words == '🤯' :
      words='blow_mind'	
    elif words == '✌️' :
      words='vhand'			
    elif words == '🤘' :
      words='metal'
    elif words == '🤦' :
      words='bad'				
    elif words == '🤩':
      words='good'
    elif words == '🥰':
      words='good'
    elif words == '🤔':
      words='thinking'
    elif words == '🤣':
      words='good'
    elif words == '🤗':
      words = 'good'
    else :
      return None
    return words+" "



def preprocess(text):
    text  = "".join([char for char in text if char not in string.punctuation])
    text  = "".join([char for char in text if char not in emoticons])
    text = re.sub(r'(\\u[0-9A-Fa-f]+)',r'', text)
    text = re.sub('[0-9]+', '', text)
    text = re.sub('@[A-Za-z0-9]+', '', text)
    text = re.sub('https?://[A-Za-z0-9./]+', '', text)
    text = re.sub(r'[^\x00-\x7F]+',' ', text)
    text = re.sub(r'\s+', ' ', text)
    text = re.sub(r'#([^\s]+)', r'\1', text)
    text = emoji_pattern.sub(r'', text)
    text = text.lower()
    text = text.strip('\'"')
    text = re.sub(r'\b\w{20,100}\b', '', text)
    return text 

#HappyEmoticons
emoticons_happy = set([
    ':-)', ':)', ';)', ':o)', ':]', ':3', ':c)', ':>', '=]', '8)', '=)', ':}',
    ':^)', ':-D', ':D', '8-D', '8D', 'x-D', 'xD', 'X-D', 'XD', '=-D', '=D',
    '=-3', '=3', ':-))', ":'-)", ":')", ':*', ':^*', '>:P', ':-P', ':P', 'X-P',
    'x-p', 'xp', 'XP', ':-p', ':p', '=p', ':-b', ':b', '>:)', '>;)', '>:-)',
    '<3'
    ])
# Sad Emoticons
emoticons_sad = set([
    ':L', ':-/', '>:/', ':S', '>:[', ':@', ':-(', ':[', ':-||', '=L', ':<',
    ':-[', ':-<', '=\\', '=/', '>:(', ':(', '>.<', ":'-(", ":'(", ':\\', ':-c',
    ':c', ':{', '>:\\', ';('
    ])

emoticons = emoticons_happy.union(emoticons_sad)

emoji_pattern = re.compile("["
         u"\U0001F600-\U0001F64F"  # For emoticons
         u"\U0001F300-\U0001F5FF"  # For symbols & pictographs
         u"\U0001F680-\U0001F6FF"  # For transport & map symbols
         u"\U0001F1E0-\U0001F1FF"  # For flags (iOS)
         u"\U00002702-\U000027B0"
         u"\U000024C2-\U0001F251"
         "]+", flags=re.UNICODE)


def kannadaword(word):
    return transliterate(word,sanscript.KANNADA,sanscript.ITRANS)


colnames=['text','label']
df = pd.read_csv(r'kannada_sentiment_full_train.tsv',names=colnames, delimiter='\t', error_bad_lines=False, header=None,
                      usecols=['text','label'], na_values=" NaN",skiprows=[0])


df_val = pd.read_csv(r'kannada_sentiment_full_dev.tsv',names=colnames, delimiter='\t', error_bad_lines=False, header=None,
                      usecols=['text','label'], na_values=" NaN",skiprows=[0])

colnames=['index','text','label']
df_test = pd.read_csv(r'kannada_sentiment_full_test_withlabels.tsv',names=colnames, delimiter='\t', error_bad_lines=False, header=None,
                      usecols=['text','label'], na_values=" NaN",skiprows=[0])


labels = ['Mixed feelings','Negative','Positive','not-Kannada','unknown state'] 

for index, line in df.iterrows():
  if line['label'].lower() == labels[0].lower():
        line['label'] = "0"
  elif line['label'].lower() == labels[1].lower():
        line['label'] = "1"
  elif line['label'].lower() == labels[2].lower():
        line['label'] = "2"
  elif line['label'].lower() == labels[3].lower():
        line['label'] = "3"
  elif line['label'].lower() == labels[4].lower():
        line['label'] = "4"
  i=token(line[0])
  for word in range(len(i)):
      for ch in range(len(i[word])):
          checker=emoji_ch(i[word][ch])
          if(checker is not None):
              i[word]+=checker
      
      checker=kannadaword(i[word])
      if(checker is not None):
          i[word]=checker
      i[word]=preprocess(i[word])
          
          
  line[0]=' '.join(i)

for index, line in df_val.iterrows():
  if line['label'].lower() == labels[0].lower():
        line['label'] = "0"
  elif line['label'].lower() == labels[1].lower():
        line['label'] = "1"
  elif line['label'].lower() == labels[2].lower():
        line['label'] = "2"
  elif line['label'].lower() == labels[3].lower():
        line['label'] = "3"
  elif line['label'].lower() == labels[4].lower():
        line['label'] = "4"
  i=token(line[0])
  for word in range(len(i)):
      for ch in range(len(i[word])):
          checker=emoji_ch(i[word][ch])
          if(checker is not None):
              i[word]+=checker
      
      checker=kannadaword(i[word])
      if(checker is not None):
          i[word]=checker
      i[word]=preprocess(i[word])
          
          
  line[0]=' '.join(i)


labels = ['Mixed feelings','Negative','Positive','not-Kannada','unknown state'] 
for index, line in df_test.iterrows():
  if line['label'].lower() == labels[0].lower():
        line['label'] = "0"
  elif line['label'].lower() == labels[1].lower():
        line['label'] = "1"
  elif line['label'].lower() == labels[2].lower():
        line['label'] = "2"
  elif line['label'].lower() == labels[3].lower():
        line['label'] = "3"
  elif line['label'].lower() == labels[4].lower():
        line['label'] = "4"
  i=token(line[0])
  for word in range(len(i)):
      for ch in range(len(i[word])):
          checker=emoji_ch(i[word][ch])
          if(checker is not None):
              i[word]+=checker
      i[word]=preprocess(i[word])
      
      checker=kannadaword(i[word])
      if(checker is not None):
          i[word]=checker
      i[word]=preprocess(i[word])
          
          
  line[0]=' '.join(i)

print(df.head())
print(df_val.head())
print(df_test.head())

x_train = df['text']
y_train = df['label']
x_dev = df_val['text']
y_dev = df_val['label']
x_test = df_test['text']
y_test = df_test['label']

vectorizer = TfidfVectorizer(max_features=5000, sublinear_tf=True, ngram_range=(1,2))
X_train = vectorizer.fit_transform(x_train).toarray()
X_test = vectorizer.transform(x_test).toarray()
X_dev=vectorizer.transform(x_dev).toarray()
att=[5]
for i in range(len(att)):
    names = ["SVM Linear", "Logistic Regression","Balanced RF","XGB","RF"]
    classifiers = [
        SVC(random_state=0,kernel='linear',probability=True, tol=1e-6),
        LogisticRegression(random_state=0,max_iter=500, solver = 'lbfgs',C = att[i], multi_class = 'multinomial'),
        BalancedRandomForestClassifier(n_estimators=1000,max_depth=30,n_jobs=3, random_state=0),
        XGBClassifier(n_estimators=1000,max_depth=3,use_label_encoder=False,eval_metric='mlogloss'),
        RandomForestClassifier(n_estimators=1000, max_depth=10, random_state=0)
    ]
estimator = []
models = zip(names, classifiers)
for name, model in models:
        estimator.append((name, model))
#ensemble = VotingClassifier(estimator)
#results = model_selection.cross_val_score(ensemble, X_train,y_train,cv=10,scoring='accuracy',n_jobs=-1)
 # Voting Classifier with soft voting
vot_soft = VotingClassifier(estimators = estimator, voting ='soft')
vot_soft.fit(X_train, y_train)
y_pred = vot_soft.predict(X_dev)
  
# using accuracy_score
score = accuracy_score(y_dev, y_pred)
print("soft Voting Score % f" % score)
print("Acc: F1 score", accuracy_score(y_dev, y_pred) , f1_score(y_dev, y_pred, average="weighted"))
print(classification_report(y_dev, y_pred))
